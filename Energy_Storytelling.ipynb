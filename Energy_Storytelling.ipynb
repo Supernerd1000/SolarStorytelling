{
 "cells": [
  {
   "cell_type": "code",
   "execution_count": 1,
   "metadata": {},
   "outputs": [],
   "source": [
    "import pandas as pd"
   ]
  },
  {
   "cell_type": "code",
   "execution_count": 2,
   "metadata": {},
   "outputs": [],
   "source": [
    "df = pd.read_csv(\"CO2_Prediction_After_Wrangling.csv\")"
   ]
  },
  {
   "cell_type": "code",
   "execution_count": 3,
   "metadata": {},
   "outputs": [
    {
     "name": "stdout",
     "output_type": "stream",
     "text": [
      "Index(['Data Year', 'Plant state abbreviation', 'Utility name', 'Plant name',\n",
      "       'Plant-level sector', 'Balancing Authority Name',\n",
      "       'eGRID subregion name', 'Plant latitude', 'Plant longitude',\n",
      "       'Number of units', 'Number of generators', 'Plant primary fuel',\n",
      "       'Plant primary coal/oil/gas/ other fossil fuel category',\n",
      "       'Flag indicating if the plant burned or generated any amount of coal',\n",
      "       'Plant capacity factor', 'Plant nameplate capacity (MW)',\n",
      "       'Nonbaseload Factor', 'Plant annual net generation (MWh)',\n",
      "       'Plant annual CO2 emissions (tons)', 'Plant annual CH4 emissions (lbs)',\n",
      "       'Plant annual CO2 total output emission rate (lb/MWh)',\n",
      "       'Plant annual CH4 total output emission rate (lb/MWh)',\n",
      "       'Plant unadjusted annual heat input from combustion (MMBtu)',\n",
      "       'Plant nominal heat rate (Btu/kWh)',\n",
      "       'Plant annual total nonrenewables net generation (MWh)',\n",
      "       'Plant annual total renewables net generation (MWh)',\n",
      "       'Plant total nonrenewables generation percent (resource mix)',\n",
      "       'Plant total renewables generation percent (resource mix)'],\n",
      "      dtype='object')\n"
     ]
    }
   ],
   "source": [
    "print(df.columns)"
   ]
  },
  {
   "cell_type": "markdown",
   "metadata": {},
   "source": [
    "# Energy Dataset\n",
    "\n",
    "I am going to choose the energy dataset after wrangling that I completed in my Capstone to analyze this topic further."
   ]
  },
  {
   "cell_type": "markdown",
   "metadata": {},
   "source": [
    "# Audience\n",
    "\n",
    "My audience will be the non-technical audience or the general public."
   ]
  },
  {
   "cell_type": "code",
   "execution_count": 4,
   "metadata": {},
   "outputs": [
    {
     "data": {
      "text/plain": [
       "SUN    2719\n",
       "NG     1708\n",
       "WAT    1448\n",
       "WND    1103\n",
       "DFO     766\n",
       "LFG     345\n",
       "SUB     136\n",
       "BIT     125\n",
       "WDS     120\n",
       "OBG      85\n",
       "BLQ      74\n",
       "MSW      67\n",
       "MWH      66\n",
       "GEO      64\n",
       "NUC      61\n",
       "RC       43\n",
       "WH       32\n",
       "RFO      21\n",
       "WC       18\n",
       "PRG      17\n",
       "OG       17\n",
       "LIG      15\n",
       "PC       13\n",
       "KER      12\n",
       "AB        9\n",
       "PUR       7\n",
       "COG       7\n",
       "OTH       5\n",
       "WO        5\n",
       "OBS       4\n",
       "OBL       3\n",
       "WDL       3\n",
       "BFG       2\n",
       "JF        2\n",
       "SGC       1\n",
       "Name: Plant primary fuel, dtype: int64"
      ]
     },
     "execution_count": 4,
     "metadata": {},
     "output_type": "execute_result"
    }
   ],
   "source": [
    "df['Plant primary fuel'].value_counts()"
   ]
  },
  {
   "cell_type": "code",
   "execution_count": 5,
   "metadata": {},
   "outputs": [
    {
     "data": {
      "text/plain": [
       "IPP Non-CHP           4918\n",
       "Electric Utility      2949\n",
       "Industrial CHP         417\n",
       "Commercial Non-CHP     275\n",
       "IPP CHP                212\n",
       "Commercial CHP         210\n",
       "Industrial Non-CHP     142\n",
       "Name: Plant-level sector, dtype: int64"
      ]
     },
     "execution_count": 5,
     "metadata": {},
     "output_type": "execute_result"
    }
   ],
   "source": [
    "df['Plant-level sector'].value_counts()"
   ]
  },
  {
   "cell_type": "code",
   "execution_count": 6,
   "metadata": {},
   "outputs": [
    {
     "data": {
      "text/plain": [
       "SOLAR         2719\n",
       "GAS           1708\n",
       "HYDRO         1448\n",
       "WIND          1103\n",
       "OIL            819\n",
       "BIOMASS        710\n",
       "COAL           345\n",
       "OTHF           127\n",
       "GEOTHERMAL      64\n",
       "NUCLEAR         61\n",
       "OFSL            19\n",
       "Name: Plant primary coal/oil/gas/ other fossil fuel category, dtype: int64"
      ]
     },
     "execution_count": 6,
     "metadata": {},
     "output_type": "execute_result"
    }
   ],
   "source": [
    "df['Plant primary coal/oil/gas/ other fossil fuel category'].value_counts()"
   ]
  },
  {
   "cell_type": "code",
   "execution_count": 7,
   "metadata": {},
   "outputs": [
    {
     "name": "stdout",
     "output_type": "stream",
     "text": [
      "Plant primary coal/oil/gas/ other fossil fuel category\n",
      "GAS           1.391927e+09\n",
      "COAL          1.199055e+09\n",
      "NUCLEAR       8.131580e+08\n",
      "HYDRO         2.863718e+08\n",
      "WIND          2.724804e+08\n",
      "BIOMASS       6.998091e+07\n",
      "SOLAR         6.300083e+07\n",
      "OIL           2.060618e+07\n",
      "GEOTHERMAL    1.587436e+07\n",
      "OTHF          1.382021e+07\n",
      "OFSL          1.211483e+07\n",
      "Name: Plant annual net generation (MWh), dtype: float64\n"
     ]
    }
   ],
   "source": [
    "MWsSources = df.groupby('Plant primary coal/oil/gas/ other fossil fuel category')['Plant annual net generation (MWh)'].sum().sort_values(ascending=False)\n",
    "\n",
    "print(MWsSources)"
   ]
  },
  {
   "cell_type": "code",
   "execution_count": 8,
   "metadata": {},
   "outputs": [],
   "source": [
    "Solar = df[df['Plant primary coal/oil/gas/ other fossil fuel category']==\"SOLAR\"]"
   ]
  },
  {
   "cell_type": "code",
   "execution_count": 9,
   "metadata": {},
   "outputs": [
    {
     "data": {
      "text/plain": [
       "Plant state abbreviation\n",
       "CA    2.651931e+07\n",
       "NC    6.050031e+06\n",
       "AZ    5.178057e+06\n",
       "NV    4.666207e+06\n",
       "TX    3.205444e+06\n",
       "FL    2.302240e+06\n",
       "UT    2.223706e+06\n",
       "GA    1.993346e+06\n",
       "NM    1.345681e+06\n",
       "CO    1.062352e+06\n",
       "MN    1.042021e+06\n",
       "MA    9.407250e+05\n",
       "NJ    9.262770e+05\n",
       "VA    7.630720e+05\n",
       "OR    5.716960e+05\n",
       "ID    5.559640e+05\n",
       "SC    5.104930e+05\n",
       "MD    3.911300e+05\n",
       "AL    3.572030e+05\n",
       "MS    3.258530e+05\n",
       "NY    2.950160e+05\n",
       "IN    2.907170e+05\n",
       "AR    2.034130e+05\n",
       "HI    1.842240e+05\n",
       "TN    1.675940e+05\n",
       "OH    1.179570e+05\n",
       "MI    1.159810e+05\n",
       "VT    1.025350e+05\n",
       "CT    1.013340e+05\n",
       "MO    8.654700e+04\n",
       "PA    6.247500e+04\n",
       "OK    5.720300e+04\n",
       "IL    5.166300e+04\n",
       "DE    4.978900e+04\n",
       "WI    3.577300e+04\n",
       "MT    3.401200e+04\n",
       "RI    2.886600e+04\n",
       "NE    2.711200e+04\n",
       "KY    2.240600e+04\n",
       "ME    1.203200e+04\n",
       "IA    1.042600e+04\n",
       "KS    7.727000e+03\n",
       "SD    1.672000e+03\n",
       "LA    1.518000e+03\n",
       "WA    1.207000e+03\n",
       "WY    8.240000e+02\n",
       "Name: Plant annual net generation (MWh), dtype: float64"
      ]
     },
     "execution_count": 9,
     "metadata": {},
     "output_type": "execute_result"
    }
   ],
   "source": [
    "Solar.groupby('Plant state abbreviation')['Plant annual net generation (MWh)'].sum().sort_values(ascending=False)"
   ]
  },
  {
   "cell_type": "code",
   "execution_count": 10,
   "metadata": {},
   "outputs": [
    {
     "data": {
      "text/plain": [
       "Utility name\n",
       "Southern Power Co                       5539454.999\n",
       "Consolidated Edison Development Inc.    5112295.001\n",
       "Dominion Renewable Energy               3220662.000\n",
       "Sustainable Power Group, LLC            2355573.000\n",
       "Florida Power & Light Co                1836740.000\n",
       "                                           ...     \n",
       "BWC Wareham River, LLC                        0.000\n",
       "AVS Phase 2 LLC                               0.000\n",
       "USS Norelius Solar LLC                        0.000\n",
       "AES LAWAI SOLAR, LLC                          0.000\n",
       "BWC Gibbs Brook, LLC                          0.000\n",
       "Name: Plant annual net generation (MWh), Length: 1266, dtype: float64"
      ]
     },
     "execution_count": 10,
     "metadata": {},
     "output_type": "execute_result"
    }
   ],
   "source": [
    "Solar.groupby('Utility name')['Plant annual net generation (MWh)'].sum().sort_values(ascending=False)"
   ]
  },
  {
   "cell_type": "code",
   "execution_count": 11,
   "metadata": {},
   "outputs": [
    {
     "data": {
      "text/plain": [
       "Cypress Creek Renewables                177\n",
       "Sustainable Power Group, LLC             88\n",
       "Tesla Inc.                               70\n",
       "Consolidated Edison Development Inc.     50\n",
       "WGL Energy Systems, Inc                  46\n",
       "                                       ... \n",
       "Ameresco, Inc - Braintree                 1\n",
       "Suncore Photovoltaics, Inc                1\n",
       "Kearsarge Concord II LLC                  1\n",
       "PGC Plano I, LLC                          1\n",
       "Dublin Solar I, LLC                       1\n",
       "Name: Utility name, Length: 1266, dtype: int64"
      ]
     },
     "execution_count": 11,
     "metadata": {},
     "output_type": "execute_result"
    }
   ],
   "source": [
    "Solar['Utility name'].value_counts()"
   ]
  },
  {
   "cell_type": "markdown",
   "metadata": {},
   "source": [
    "# Narrative:\n",
    "\n",
    "What was the state of energy in 2018?  Is solar poised to make a major breakthrough in coming years?  Which states are utilizing the most solar?   How can we get a sense of where the industry is going by looking at current values.  "
   ]
  },
  {
   "cell_type": "code",
   "execution_count": 12,
   "metadata": {},
   "outputs": [],
   "source": [
    "cats = df['Plant primary coal/oil/gas/ other fossil fuel category'].unique()"
   ]
  },
  {
   "cell_type": "code",
   "execution_count": 13,
   "metadata": {},
   "outputs": [
    {
     "data": {
      "text/plain": [
       "63000834.400000006"
      ]
     },
     "execution_count": 13,
     "metadata": {},
     "output_type": "execute_result"
    }
   ],
   "source": [
    "df.groupby('Plant primary coal/oil/gas/ other fossil fuel category')['Plant annual net generation (MWh)'].sum()['SOLAR']"
   ]
  },
  {
   "cell_type": "code",
   "execution_count": 14,
   "metadata": {},
   "outputs": [
    {
     "data": {
      "text/plain": [
       "11"
      ]
     },
     "execution_count": 14,
     "metadata": {},
     "output_type": "execute_result"
    }
   ],
   "source": [
    "len(cats)"
   ]
  },
  {
   "cell_type": "code",
   "execution_count": 15,
   "metadata": {},
   "outputs": [],
   "source": [
    "MWbyType = [df.groupby('Plant primary coal/oil/gas/ other fossil fuel category')['Plant annual net generation (MWh)'].sum()[i] for i in df['Plant primary coal/oil/gas/ other fossil fuel category'].unique()]"
   ]
  },
  {
   "cell_type": "code",
   "execution_count": 16,
   "metadata": {},
   "outputs": [
    {
     "name": "stdout",
     "output_type": "stream",
     "text": [
      "[20606184.223000027, 286371780.6020002, 1391926995.9519987, 1199055433.499, 13820208.208999999, 272480370.002, 69980908.95599999, 63000834.400000006, 813157993.0009999, 15874361.998, 12114832.824]\n"
     ]
    }
   ],
   "source": [
    "print(MWbyType)"
   ]
  },
  {
   "cell_type": "markdown",
   "metadata": {},
   "source": [
    "# What is the current energy mix in the United States?"
   ]
  },
  {
   "cell_type": "code",
   "execution_count": 17,
   "metadata": {},
   "outputs": [
    {
     "data": {
      "image/png": "[encoded data removed]",
      "text/plain": [
       "<Figure size 432x288 with 1 Axes>"
      ]
     },
     "metadata": {
      "needs_background": "light"
     },
     "output_type": "display_data"
    }
   ],
   "source": [
    "import matplotlib.pyplot as plt\n",
    "\n",
    "# Data to plot\n",
    "labels = cats\n",
    "sizes = MWbyType\n",
    "colors = ['gold', 'yellowgreen', 'lightcoral', 'lightskyblue', 'red', 'blue','green','grey','silver','pink','purple']\n",
    "\n",
    "# Plot\n",
    "\n",
    "plt.pie(sizes, labels=labels, colors=colors,\n",
    "autopct='%1.1f%%', shadow=True, startangle=140, frame = True)\n",
    "\n",
    "plt.axis('equal')\n",
    "plt.show()"
   ]
  },
  {
   "cell_type": "markdown",
   "metadata": {},
   "source": [
    "# What are the top 10 highest consuming states for Solar Power?"
   ]
  },
  {
   "cell_type": "code",
   "execution_count": 18,
   "metadata": {},
   "outputs": [],
   "source": [
    "SolarTop10 = Solar.groupby('Plant state abbreviation')['Plant annual net generation (MWh)'].sum().sort_values(ascending=False).nlargest(10)"
   ]
  },
  {
   "cell_type": "code",
   "execution_count": 19,
   "metadata": {},
   "outputs": [
    {
     "data": {
      "text/plain": [
       "<AxesSubplot:xlabel='Plant state abbreviation'>"
      ]
     },
     "execution_count": 19,
     "metadata": {},
     "output_type": "execute_result"
    },
    {
     "data": {
      "image/png": "[encoded data removed]",
      "text/plain": [
       "<Figure size 432x288 with 1 Axes>"
      ]
     },
     "metadata": {
      "needs_background": "light"
     },
     "output_type": "display_data"
    }
   ],
   "source": [
    "SolarTop10.plot.bar()"
   ]
  },
  {
   "cell_type": "markdown",
   "metadata": {},
   "source": [
    "# What types of plants are most common in the US?\n",
    "\n"
   ]
  },
  {
   "cell_type": "code",
   "execution_count": 20,
   "metadata": {},
   "outputs": [
    {
     "data": {
      "image/png": "[encoded data removed]",
      "text/plain": [
       "<Figure size 432x288 with 1 Axes>"
      ]
     },
     "metadata": {
      "needs_background": "light"
     },
     "output_type": "display_data"
    }
   ],
   "source": [
    "from collections import Counter\n",
    "import numpy as np\n",
    "\n",
    "Counter(df['Plant primary coal/oil/gas/ other fossil fuel category'])\n",
    "\n",
    "labels, values = zip(*Counter(df['Plant primary coal/oil/gas/ other fossil fuel category']).items())\n",
    "\n",
    "indexes = np.arange(len(labels))\n",
    "width = .75\n",
    "\n",
    "plt.bar(indexes, values, width, linewidth = .15)\n",
    "plt.xticks(indexes + width * 0.15, labels)\n",
    "plt.show()\n"
   ]
  },
  {
   "cell_type": "markdown",
   "metadata": {},
   "source": [
    "# Which of the top 20 Utilities currently have the highest proportion of renewables?\n",
    "\n",
    "It is clear that there has been a lot of investment in Solar, but this dataset gives me no understanding of how the industry is changing over time.  This would be the next thing to explore here.  "
   ]
  },
  {
   "cell_type": "code",
   "execution_count": 21,
   "metadata": {},
   "outputs": [],
   "source": [
    "renewable = pd.pivot_table(df, values = ['Plant annual total renewables net generation (MWh)', 'Plant annual net generation (MWh)'], index = 'Utility name', aggfunc = 'sum')"
   ]
  },
  {
   "cell_type": "code",
   "execution_count": 22,
   "metadata": {},
   "outputs": [],
   "source": [
    "renewable['% Renewable'] = renewable['Plant annual total renewables net generation (MWh)'] / renewable['Plant annual net generation (MWh)']"
   ]
  },
  {
   "cell_type": "code",
   "execution_count": 23,
   "metadata": {},
   "outputs": [
    {
     "data": {
      "text/html": [
       "<div>\n",
       "<style scoped>\n",
       "    .dataframe tbody tr th:only-of-type {\n",
       "        vertical-align: middle;\n",
       "    }\n",
       "\n",
       "    .dataframe tbody tr th {\n",
       "        vertical-align: top;\n",
       "    }\n",
       "\n",
       "    .dataframe thead th {\n",
       "        text-align: right;\n",
       "    }\n",
       "</style>\n",
       "<table border=\"1\" class=\"dataframe\">\n",
       "  <thead>\n",
       "    <tr style=\"text-align: right;\">\n",
       "      <th></th>\n",
       "      <th>Plant annual net generation (MWh)</th>\n",
       "      <th>Plant annual total renewables net generation (MWh)</th>\n",
       "      <th>% Renewable</th>\n",
       "    </tr>\n",
       "    <tr>\n",
       "      <th>Utility name</th>\n",
       "      <th></th>\n",
       "      <th></th>\n",
       "      <th></th>\n",
       "    </tr>\n",
       "  </thead>\n",
       "  <tbody>\n",
       "    <tr>\n",
       "      <th>126 Grove Solar LLC</th>\n",
       "      <td>2195.0</td>\n",
       "      <td>2195.0</td>\n",
       "      <td>1.0</td>\n",
       "    </tr>\n",
       "    <tr>\n",
       "      <th>158th Fighter Wing</th>\n",
       "      <td>1409.0</td>\n",
       "      <td>1409.0</td>\n",
       "      <td>1.0</td>\n",
       "    </tr>\n",
       "    <tr>\n",
       "      <th>180 Raritan Energy Solutions, LLC</th>\n",
       "      <td>2386.0</td>\n",
       "      <td>2386.0</td>\n",
       "      <td>1.0</td>\n",
       "    </tr>\n",
       "    <tr>\n",
       "      <th>2016 ESA Project Company, LLC</th>\n",
       "      <td>0.0</td>\n",
       "      <td>0.0</td>\n",
       "      <td>NaN</td>\n",
       "    </tr>\n",
       "    <tr>\n",
       "      <th>301 Chestnut Solar NG, LLC</th>\n",
       "      <td>2256.0</td>\n",
       "      <td>2256.0</td>\n",
       "      <td>1.0</td>\n",
       "    </tr>\n",
       "  </tbody>\n",
       "</table>\n",
       "</div>"
      ],
      "text/plain": [
       "                                   Plant annual net generation (MWh)  \\\n",
       "Utility name                                                           \n",
       "126 Grove Solar LLC                                           2195.0   \n",
       "158th Fighter Wing                                            1409.0   \n",
       "180 Raritan Energy Solutions, LLC                             2386.0   \n",
       "2016 ESA Project Company, LLC                                    0.0   \n",
       "301 Chestnut Solar NG, LLC                                    2256.0   \n",
       "\n",
       "                                   Plant annual total renewables net generation (MWh)  \\\n",
       "Utility name                                                                            \n",
       "126 Grove Solar LLC                                                           2195.0    \n",
       "158th Fighter Wing                                                            1409.0    \n",
       "180 Raritan Energy Solutions, LLC                                             2386.0    \n",
       "2016 ESA Project Company, LLC                                                    0.0    \n",
       "301 Chestnut Solar NG, LLC                                                    2256.0    \n",
       "\n",
       "                                   % Renewable  \n",
       "Utility name                                    \n",
       "126 Grove Solar LLC                        1.0  \n",
       "158th Fighter Wing                         1.0  \n",
       "180 Raritan Energy Solutions, LLC          1.0  \n",
       "2016 ESA Project Company, LLC              NaN  \n",
       "301 Chestnut Solar NG, LLC                 1.0  "
      ]
     },
     "execution_count": 23,
     "metadata": {},
     "output_type": "execute_result"
    }
   ],
   "source": [
    "renewable.head()"
   ]
  },
  {
   "cell_type": "code",
   "execution_count": 24,
   "metadata": {},
   "outputs": [
    {
     "name": "stderr",
     "output_type": "stream",
     "text": [
      "/home/jeremy/Springboard/SpringBoard_Projects/StoryTelling/venv/lib/python3.6/site-packages/ipykernel_launcher.py:1: FutureWarning: Indexing with multiple keys (implicitly converted to a tuple of keys) will be deprecated, use a list instead.\n",
      "  \"\"\"Entry point for launching an IPython kernel.\n"
     ]
    }
   ],
   "source": [
    "top20 = renewable.groupby('Utility name')['Plant annual net generation (MWh)','% Renewable'].sum().sort_values(by = 'Plant annual net generation (MWh)', ascending=False).nlargest(20, columns = 'Plant annual net generation (MWh)')"
   ]
  },
  {
   "cell_type": "code",
   "execution_count": 25,
   "metadata": {},
   "outputs": [
    {
     "data": {
      "text/plain": [
       "<AxesSubplot:xlabel='Utility name'>"
      ]
     },
     "execution_count": 25,
     "metadata": {},
     "output_type": "execute_result"
    },
    {
     "data": {
      "image/png": "[encoded data removed]",
      "text/plain": [
       "<Figure size 432x288 with 1 Axes>"
      ]
     },
     "metadata": {
      "needs_background": "light"
     },
     "output_type": "display_data"
    }
   ],
   "source": [
    "dfnew = top20.groupby('Utility name')['% Renewable'].sum()\n",
    "\n",
    "dfnew.plot.bar()"
   ]
  }
 ],
 "metadata": {
  "kernelspec": {
   "display_name": "Python 3",
   "language": "python",
   "name": "python3"
  },
  "language_info": {
   "codemirror_mode": {
    "name": "ipython",
    "version": 3
   },
   "file_extension": ".py",
   "mimetype": "text/x-python",
   "name": "python",
   "nbconvert_exporter": "python",
   "pygments_lexer": "ipython3",
   "version": "3.6.9"
  }
 },
 "nbformat": 4,
 "nbformat_minor": 4
}
